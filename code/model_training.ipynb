{
 "cells": [
  {
   "cell_type": "markdown",
   "metadata": {},
   "source": [
    "# Follow-Me Project\n",
    "Congratulations on reaching the final project of the Robotics Nanodegree! \n",
    "\n",
    "Previously, you worked on the Semantic Segmentation lab where you built a deep learning network that locates a particular human target within an image. For this project, you will utilize what you implemented and learned from that lab and extend it to train a deep learning model that will allow a simulated quadcopter to follow around the person that it detects! \n",
    "\n",
    "Most of the code below is similar to the lab with some minor modifications. You can start with your existing solution, and modify and improve upon it to train the best possible model for this task.\n",
    "\n",
    "You can click on any of the following to quickly jump to that part of this notebook:\n",
    "1. [Data Collection](#data)\n",
    "2. [FCN Layers](#fcn)\n",
    "3. [Build the Model](#build)\n",
    "4. [Training](#training)\n",
    "5. [Prediction](#prediction)\n",
    "6. [Evaluation](#evaluation)"
   ]
  },
  {
   "cell_type": "markdown",
   "metadata": {},
   "source": [
    "## Data Collection<a id='data'></a>\n",
    "We have provided you with a starting dataset for this project. Download instructions can be found in the README for this project's repo.\n",
    "Alternatively, you can collect additional data of your own to improve your model. Check out the \"Collecting Data\" section in the Project Lesson in the Classroom for more details!"
   ]
  },
  {
   "cell_type": "code",
   "execution_count": 1,
   "metadata": {},
   "outputs": [
    {
     "name": "stderr",
     "output_type": "stream",
     "text": [
      "/Users/safdar/anaconda3/envs/RoboND/lib/python3.5/site-packages/h5py/__init__.py:36: FutureWarning: Conversion of the second argument of issubdtype from `float` to `np.floating` is deprecated. In future, it will be treated as `np.float64 == np.dtype(float).type`.\n",
      "  from ._conv import register_converters as _register_converters\n",
      "Using TensorFlow backend.\n"
     ]
    }
   ],
   "source": [
    "import os\n",
    "import glob\n",
    "import sys\n",
    "import tensorflow as tf\n",
    "\n",
    "from scipy import misc\n",
    "import numpy as np\n",
    "\n",
    "from tensorflow.contrib.keras.python import keras\n",
    "from tensorflow.contrib.keras.python.keras import layers, models\n",
    "#from keras.models import load_model\n",
    "from keras.models import model_from_json\n",
    "\n",
    "from tensorflow import image\n",
    "\n",
    "from utils import scoring_utils\n",
    "from utils.separable_conv2d import SeparableConv2DKeras, BilinearUpSampling2D\n",
    "from utils import data_iterator\n",
    "from utils import plotting_tools \n",
    "from utils import model_tools\n",
    "import time"
   ]
  },
  {
   "cell_type": "code",
   "execution_count": 2,
   "metadata": {},
   "outputs": [
    {
     "name": "stdout",
     "output_type": "stream",
     "text": [
      "Current dir:  /Users/safdar/Documents/robond/RoboND-FollowMe/code\n",
      "Files found:  4131\n",
      "37.64221738077947 percent of files contain the hero\n"
     ]
    }
   ],
   "source": [
    "# To determine % of files that contain teh hero:\n",
    "# (From: https://udacity-robotics.slack.com/files/U4UKR0C5Q/F7DTF3D1C/Script_to_see_what___of_training_image_masks_contain_the_hero.py)\n",
    "#By tokyo_adam 4-10-17 \n",
    "import cv2\n",
    "import numpy as np\n",
    "import glob, os\n",
    "\n",
    "#set to the directory where your masks are saved\n",
    "print (\"Current dir: \", os.getcwd())\n",
    "img_dir = \"../data/masks/train/set0\"\n",
    "\n",
    "total_files = 0\n",
    "total_hero = 0\n",
    "\n",
    "#os.chdir(img_dir)\n",
    "files = glob.glob(os.path.join(img_dir, 'masks', \"*.png\"))\n",
    "print (\"Files found: \", len(files))\n",
    "if (len(files) > 0):\n",
    "    for file in files:\n",
    "        total_files +=1\n",
    "\n",
    "        img = cv2.imread(file)\n",
    "        blue = img[:,:,0]\n",
    "\n",
    "        if np.any(blue == 255):\n",
    "            total_hero += 1\n",
    "    percent_hero = 100. * total_hero / total_files\n",
    "    print (percent_hero, \"percent of files contain the hero\")\n",
    "else:\n",
    "    print (\"No files found in folder: \", img_dir)"
   ]
  },
  {
   "cell_type": "markdown",
   "metadata": {},
   "source": [
    "## FCN Layers <a id='fcn'></a>\n",
    "In the Classroom, we discussed the different layers that constitute a fully convolutional network (FCN). The following code will introduce you to the functions that you need to build your semantic segmentation model."
   ]
  },
  {
   "cell_type": "markdown",
   "metadata": {},
   "source": [
    "### Separable Convolutions\n",
    "The Encoder for your FCN will essentially require separable convolution layers, due to their advantages as explained in the classroom. The 1x1 convolution layer in the FCN, however, is a regular convolution. Implementations for both are provided below for your use. Each includes batch normalization with the ReLU activation function applied to the layers. "
   ]
  },
  {
   "cell_type": "code",
   "execution_count": 3,
   "metadata": {},
   "outputs": [],
   "source": [
    "def separable_conv2d_batchnorm(input_layer, filters, kernel_size, strides, name=\"sep-convolution-w-batchnorm\"):\n",
    "    with tf.name_scope(name):\n",
    "        output_layer = SeparableConv2DKeras(filters=filters,kernel_size=kernel_size, strides=strides,\n",
    "                                            padding='same', activation='relu'\n",
    "                                            #, name='separable-conv-layer'\n",
    "                                            )(input_layer)\n",
    "\n",
    "        output_layer = layers.BatchNormalization(\n",
    "                                                #name=\"batch-normalization-layer\"\n",
    "                                                )(output_layer)\n",
    "        return output_layer\n",
    "\n",
    "def conv2d_batchnorm(input_layer, filters, kernel_size, strides, name=\"convolution-w-batchnorm\"):\n",
    "    with tf.name_scope(name):\n",
    "        output_layer = layers.Conv2D(filters=filters, kernel_size=kernel_size, strides=strides, \n",
    "                                     padding='same', activation='relu'\n",
    "                                     #, name='convolution-layer'\n",
    "                                    )(input_layer)\n",
    "\n",
    "        output_layer = layers.BatchNormalization(\n",
    "                                                #name=\"batch-normalization-layer\"\n",
    "                                                )(output_layer)\n",
    "        return output_layer"
   ]
  },
  {
   "cell_type": "markdown",
   "metadata": {},
   "source": [
    "### Bilinear Upsampling\n",
    "The following helper function implements the bilinear upsampling layer. Upsampling by a factor of 2 is generally recommended, but you can try out different factors as well. Upsampling is used in the decoder block of the FCN."
   ]
  },
  {
   "cell_type": "code",
   "execution_count": 4,
   "metadata": {},
   "outputs": [],
   "source": [
    "def bilinear_upsample(input_layer, multiplier, name=\"bi-upsample\"):\n",
    "    with tf.name_scope(name):\n",
    "        output_layer = BilinearUpSampling2D((multiplier, multiplier)\n",
    "                                            #, name=\"upsampler-layer\"\n",
    "                                           )(input_layer)\n",
    "#         tf.summary.histogram('weights', output_layer.get_weights()[0])\n",
    "#         tf.summary.histogram('biases', output_layer.get_weights()[1])\n",
    "#         tf.summary.histogram('biases', output_layer.output)\n",
    "        return output_layer"
   ]
  },
  {
   "cell_type": "markdown",
   "metadata": {},
   "source": [
    "## Build the Model <a id='build'></a>\n",
    "In the following cells, you will build an FCN to train a model to detect and locate the hero target within an image. The steps are:\n",
    "- Create an `encoder_block`\n",
    "- Create a `decoder_block`\n",
    "- Build the FCN consisting of encoder block(s), a 1x1 convolution, and decoder block(s).  This step requires experimentation with different numbers of layers and filter sizes to build your model."
   ]
  },
  {
   "cell_type": "markdown",
   "metadata": {},
   "source": [
    "### Encoder Block\n",
    "Create an encoder block that includes a separable convolution layer using the `separable_conv2d_batchnorm()` function. The `filters` parameter defines the size or depth of the output layer. For example, 32 or 64. "
   ]
  },
  {
   "cell_type": "code",
   "execution_count": 5,
   "metadata": {},
   "outputs": [],
   "source": [
    "def encoder_block(input_layer, filters, kernel_size, strides, name=\"encoder-block\"):\n",
    "    with tf.name_scope(name):\n",
    "        # TODO Create a separable convolution layer using the separable_conv2d_batchnorm() function.\n",
    "        output_layer = separable_conv2d_batchnorm(input_layer, filters, kernel_size=kernel_size, strides=strides, name=\"separable-convolution-block\")\n",
    "        return output_layer"
   ]
  },
  {
   "cell_type": "markdown",
   "metadata": {},
   "source": [
    "### Decoder Block\n",
    "The decoder block is comprised of three parts:\n",
    "- A bilinear upsampling layer using the upsample_bilinear() function. The current recommended factor for upsampling is set to 2.\n",
    "- A layer concatenation step. This step is similar to skip connections. You will concatenate the upsampled small_ip_layer and the large_ip_layer.\n",
    "- Some (one or two) additional separable convolution layers to extract some more spatial information from prior layers."
   ]
  },
  {
   "cell_type": "code",
   "execution_count": 6,
   "metadata": {},
   "outputs": [],
   "source": [
    "def decoder_block(small_ip_layer, large_ip_layer, filters, multiplier, kernel_size, name=\"decoder-block\"):\n",
    "    \n",
    "    with tf.name_scope(name):\n",
    "        # TODO Upsample the small input layer using the bilinear_upsample() function.\n",
    "        upsampled_layer = bilinear_upsample(small_ip_layer, multiplier=multiplier, name='upsample-block')\n",
    "\n",
    "        # TODO Concatenate the upsampled and large input layers using layers.concatenate\n",
    "        layer = layers.concatenate([upsampled_layer, large_ip_layer]\n",
    "                                   #, name='concatenate-1'\n",
    "                                  )\n",
    "        print (\"Concatenating: {} + {} = {}\".format(upsampled_layer.get_shape(), large_ip_layer.get_shape(), layer.get_shape()))\n",
    "\n",
    "        # TODO Add some number of separable convolution layers\n",
    "        layer = separable_conv2d_batchnorm(layer, filters, kernel_size=kernel_size, strides=1\n",
    "                                           #, name=\"separable-convolution-block-1\"\n",
    "                                          )\n",
    "        layer = separable_conv2d_batchnorm(layer, filters, kernel_size=kernel_size, strides=1\n",
    "                                           #, name=\"separable-convolution-block-2\"\n",
    "                                          )\n",
    "\n",
    "        return layer"
   ]
  },
  {
   "cell_type": "markdown",
   "metadata": {},
   "source": [
    "### Model\n",
    "\n",
    "Now that you have the encoder and decoder blocks ready, go ahead and build your FCN architecture! \n",
    "\n",
    "There are three steps:\n",
    "- Add encoder blocks to build the encoder layers. This is similar to how you added regular convolutional layers in your CNN lab.\n",
    "- Add a 1x1 Convolution layer using the conv2d_batchnorm() function. Remember that 1x1 Convolutions require a kernel and stride of 1.\n",
    "- Add decoder blocks for the decoder layers."
   ]
  },
  {
   "cell_type": "code",
   "execution_count": 7,
   "metadata": {},
   "outputs": [],
   "source": [
    "def fcn_model(inputs, num_classes):\n",
    "    \n",
    "    print(\"Input: {}\".format(inputs.get_shape()))\n",
    "    \n",
    "    # TODO Add Encoder Blocks. \n",
    "    # Remember that with each encoder layer, the depth of your model (the number of filters) increases.\n",
    "    with tf.name_scope(\"model\"):\n",
    "        layer = conv_1 = encoder_block(inputs, filters=8, kernel_size=3, strides=2, name='encoder-block-1')\n",
    "        print(\"Conv1: {}\".format(layer.get_shape()))\n",
    "        layer = conv_2 = encoder_block(layer, filters=16, kernel_size=3, strides=2, name='encoder-block-2')\n",
    "        print(\"Conv2: {}\".format(layer.get_shape()))\n",
    "        layer = conv_3 = encoder_block(layer, filters=32, kernel_size=3, strides=2, name='encoder-block-3')\n",
    "        print(\"Conv3: {}\".format(layer.get_shape()))\n",
    "        layer = conv_4 = encoder_block(layer, filters=64, kernel_size=3, strides=2, name='encoder-block-4')\n",
    "        print(\"Conv4: {}\".format(layer.get_shape()))\n",
    "#         layer = conv_5 = encoder_block(layer, filters=128, strides=2, name='encoder-block-5')\n",
    "#         print(\"Conv5: {}\".format(layer.get_shape()))\n",
    "\n",
    "    # TODO Add 1x1 Convolution layer using conv2d_batchnorm().\n",
    "        layer = conv_6 = conv2d_batchnorm(layer, filters=256, kernel_size=1, strides=1, name='1x1-convolution')\n",
    "        print(\"1x1: {}\".format(layer.get_shape()))\n",
    "    \n",
    "    # TODO: Add the same number of Decoder Blocks as the number of Encoder Blocks\n",
    "#         layer = conv_7 = decoder_block(layer, conv_4, filters=64, multiplier=2, kernel_size=3, name='decoder-block-5')\n",
    "#         print(\"Conv7: {}\".format(layer.get_shape()))\n",
    "        layer = conv_8 = decoder_block(layer, conv_3, filters=32, multiplier=2, kernel_size=3, name='decoder-block-4')\n",
    "        print(\"Conv8: {}\".format(layer.get_shape()))\n",
    "        layer = conv_9 = decoder_block(layer, conv_2, filters=16, multiplier=2, kernel_size=3, name='decoder-block-3')\n",
    "        print(\"Conv9: {}\".format(layer.get_shape()))\n",
    "        layer = conv_10 = decoder_block(layer, conv_1, filters=8, multiplier=2, kernel_size=3, name='decoder-block-2')\n",
    "        print(\"Conv10: {}\".format(layer.get_shape()))\n",
    "        layer = conv_11 = decoder_block(layer, inputs, filters=3, multiplier=2, kernel_size=3, name='decoder-block-1')\n",
    "        print(\"Conv11: {}\".format(layer.get_shape()))\n",
    "    \n",
    "    # The function returns the output layer of your model. \"x\" is the final layer obtained from the last decoder_block()\n",
    "        layer = output_layer = layers.Conv2D(filters=num_classes, kernel_size=3, strides=1, activation='softmax', padding='same', name='output-layer')(layer)\n",
    "#         tf.summary.histogram('weights', output_layer.get_weights()[0])\n",
    "#         tf.summary.histogram('biases', output_layer.get_weights()[1])\n",
    "#         tf.summary.histogram('biases', output_layer.output)\n",
    "        print (\"Output: {}\".format(layer.get_shape()))\n",
    "        return output_layer"
   ]
  },
  {
   "cell_type": "markdown",
   "metadata": {},
   "source": [
    "### Data Augmentation\n",
    "This section defines two data augmentation methods:\n",
    "- do_filter(): To filter out image+mask tuples that do not satisfy a criteria. A 'True' return value drops the item from consideration. 'False' retains the tuple.\n",
    "- do_preprocess(): To perform any modification to the image and/or mask, such as vertical flip, etc."
   ]
  },
  {
   "cell_type": "code",
   "execution_count": 8,
   "metadata": {},
   "outputs": [],
   "source": [
    "# To filter out any image files that do not satisfy certain criteria (DURING TRAINING ONLY)\n",
    "def do_filter(image_path, mask_path):\n",
    "    contains_hero = misc.imread(mask_path)[:,:,0].max() == 255\n",
    "    if not contains_hero:\n",
    "        r = random.uniform(0, 1)\n",
    "        if r > 0.30:\n",
    "            return False # We process only 70% of images without the hero\n",
    "        else:\n",
    "            return True\n",
    "\n",
    "    # If hero exists, we always accept by returning False\n",
    "    return False\n",
    "\n",
    "# To modify the image and mask before they are used for training (DURING TRAINING ONLY)\n",
    "import random\n",
    "import cv2\n",
    "\n",
    "def do_preprocess(image, mask):\n",
    "    r = random.uniform(0, 1)\n",
    "    if r > 0.50:\n",
    "#        print (\"x\", end=\"\")\n",
    "        image = cv2.flip(image, 0)\n",
    "        mask = cv2.flip(mask, 0)\n",
    "#    else:\n",
    "#        print (\".\", end=\"\")\n",
    "    return image, mask"
   ]
  },
  {
   "cell_type": "markdown",
   "metadata": {},
   "source": [
    "### Hyperparameters\n",
    "Define and tune your hyperparameters.\n",
    "- **batch_size**: number of training samples/images that get propagated through the network in a single pass.\n",
    "- **num_epochs**: number of times the entire training dataset gets propagated through the network.\n",
    "- **batches_per_epoch**: number of batches of training images that go through the network in 1 epoch. We have provided you with a default value. One recommended value to try would be based on the total number of images in training dataset divided by the batch_size.\n",
    "- **batches_per_validation**: number of batches of validation images that go through the network in 1 epoch. This is similar to steps_per_epoch, except batches_per_validation is for the validation dataset. We have provided you with a default value for this as well.\n",
    "- **workers**: maximum number of processes to spin up. This can affect your training speed and is dependent on your hardware. We have provided a recommended value to work with. "
   ]
  },
  {
   "cell_type": "code",
   "execution_count": 9,
   "metadata": {},
   "outputs": [],
   "source": [
    "# This class is tracked at each training invocation\n",
    "# Any data point that affects the training outcome should go here\n",
    "class T (object):\n",
    "    # Static\n",
    "    image_hw = 160\n",
    "    image_shape = (image_hw, image_hw, 3)\n",
    "    num_classes = 3\n",
    "    \n",
    "    # Changing\n",
    "    learning_rate = 0.001\n",
    "    batch_size = 32 # 200,\n",
    "    num_epochs = 25\n",
    "    batches_per_epoch = 130 #200\n",
    "    batches_per_validation = 25 # 50\n",
    "    workers = 1\n",
    "    train_set_names = ['set0']\n",
    "    validation_set_names = ['set0']\n",
    "    weights_file_name = 'weights.hd5'\n",
    "    arch_file_name = 'architecture.json'\n",
    "    reload_weights = True\n",
    "    skip_training = False\n",
    "    dry_run = False\n",
    "\n",
    "#class Trackables(object):\n",
    "#  def __init__(self, adict):\n",
    "#    self.__dict__.update(adict)\n"
   ]
  },
  {
   "cell_type": "markdown",
   "metadata": {},
   "source": [
    "## Training <a id='training'></a>\n",
    "The following cells will use the FCN you created and define an ouput layer based on the size of the processed image and the number of classes recognized. You will define the hyperparameters to compile and train your model.\n",
    "\n",
    "Please Note: For this project, the helper code in `data_iterator.py` will resize the copter images to 160x160x3 to speed up training."
   ]
  },
  {
   "cell_type": "code",
   "execution_count": 10,
   "metadata": {},
   "outputs": [
    {
     "name": "stdout",
     "output_type": "stream",
     "text": [
      "Input: (?, 160, 160, 3)\n",
      "Conv1: (?, 80, 80, 8)\n",
      "Conv2: (?, 40, 40, 16)\n",
      "Conv3: (?, 20, 20, 32)\n",
      "Conv4: (?, 10, 10, 64)\n",
      "1x1: (?, 10, 10, 256)\n",
      "Concatenating: (?, 20, 20, 256) + (?, 20, 20, 32) = (?, 20, 20, 288)\n",
      "Conv8: (?, 20, 20, 32)\n",
      "Concatenating: (?, 40, 40, 32) + (?, 40, 40, 16) = (?, 40, 40, 48)\n",
      "Conv9: (?, 40, 40, 16)\n",
      "Concatenating: (?, 80, 80, 16) + (?, 80, 80, 8) = (?, 80, 80, 24)\n",
      "Conv10: (?, 80, 80, 8)\n",
      "Concatenating: (?, 160, 160, 8) + (?, 160, 160, 3) = (?, 160, 160, 11)\n",
      "Conv11: (?, 160, 160, 3)\n",
      "Output: (?, 160, 160, 3)\n"
     ]
    }
   ],
   "source": [
    "\"\"\"\n",
    "DON'T MODIFY ANYTHING IN THIS CELL THAT IS BELOW THIS LINE\n",
    "\"\"\"\n",
    "# Defining the input and output layers:\n",
    "inputs = layers.Input(T.image_shape)\n",
    "output_layer = fcn_model(inputs, T.num_classes)"
   ]
  },
  {
   "cell_type": "code",
   "execution_count": null,
   "metadata": {
    "scrolled": true
   },
   "outputs": [
    {
     "name": "stdout",
     "output_type": "stream",
     "text": [
      "Continuing training from existing model file: ../data/weights/architecture.json\n",
      "Training data: ['../data/masks/train/set0']\n",
      "Initializing the batch iterator...\n",
      "Read 4131 image files.\n"
     ]
    },
    {
     "name": "stderr",
     "output_type": "stream",
     "text": [
      "/Users/safdar/anaconda3/envs/RoboND/lib/python3.5/site-packages/ipykernel_launcher.py:3: DeprecationWarning: `imread` is deprecated!\n",
      "`imread` is deprecated in SciPy 1.0.0, and will be removed in 1.2.0.\n",
      "Use ``imageio.imread`` instead.\n",
      "  This is separate from the ipykernel package so we can avoid doing imports until\n"
     ]
    },
    {
     "name": "stdout",
     "output_type": "stream",
     "text": [
      "Initializing the batch iterator...\n",
      "Read 1184 image files.\n",
      "Epoch 1/25\n",
      "129/130 [============================>.] - ETA: 2s - loss: 0.2719Epoch 00000: saving model to ../data/weights/history/17_01_2018_11_18_28/00-weights-val_loss(0.1295).h5\n"
     ]
    },
    {
     "data": {
      "image/png": "[encoded data removed]",
      "text/plain": [
       "<matplotlib.figure.Figure at 0x12dc857b8>"
      ]
     },
     "metadata": {},
     "output_type": "display_data"
    },
    {
     "name": "stdout",
     "output_type": "stream",
     "text": [
      "Epoch 00000: val_loss improved from inf to 0.12952, saving model to ../data/weights/weights.hd5\n",
      "130/130 [==============================] - 337s - loss: 0.2712 - val_loss: 0.1295\n",
      "Epoch 2/25\n",
      "129/130 [============================>.] - ETA: 3s - loss: 0.1031Epoch 00001: saving model to ../data/weights/history/17_01_2018_11_18_28/01-weights-val_loss(0.1076).h5\n"
     ]
    },
    {
     "data": {
      "image/png": "[encoded data removed]",
      "text/plain": [
       "<matplotlib.figure.Figure at 0x129dcdf60>"
      ]
     },
     "metadata": {},
     "output_type": "display_data"
    },
    {
     "name": "stdout",
     "output_type": "stream",
     "text": [
      "Epoch 00001: val_loss improved from 0.12952 to 0.10757, saving model to ../data/weights/weights.hd5\n",
      "130/130 [==============================] - 505s - loss: 0.1031 - val_loss: 0.1076\n",
      "Epoch 3/25\n",
      " 30/130 [=====>........................] - ETA: 292s - loss: 0.0819"
     ]
    }
   ],
   "source": [
    "\"\"\"\n",
    "DON'T MODIFY ANYTHING IN THIS CELL THAT IS BELOW THIS LINE\n",
    "\"\"\"\n",
    "import json\n",
    "\n",
    "sess = tf.Session()\n",
    "writer = tf.summary.FileWriter('../logs')\n",
    "writer.add_graph(sess.graph)\n",
    "\n",
    "# Define the Keras model and compile it for training\n",
    "arch_file_path = os.path.join(\"../data/weights/\", T.arch_file_name)\n",
    "weights_file_path = os.path.join(\"../data/weights/\", T.weights_file_name)\n",
    "model = models.Model(inputs=inputs, outputs=output_layer)\n",
    "model.compile(optimizer=keras.optimizers.Nadam(T.learning_rate), loss='categorical_crossentropy') # lr=0.002, beta_1=0.9, beta_2=0.999, epsilon=None, schedule_decay=0.004)\n",
    "if T.reload_weights and os.path.isfile(weights_file_path):\n",
    "    print (\"Continuing training from existing model file:\", arch_file_path)\n",
    "    model.load_weights(weights_file_path)\n",
    "else:\n",
    "    print (\"Building model from a clean slate...\")\n",
    "\n",
    "if not T.skip_training:\n",
    "    ############################\n",
    "    # Data iterators for loading the training and validation data\n",
    "    ############################\n",
    "    train_data_folders = []\n",
    "    for name in T.train_set_names:\n",
    "        train_data_folders.append(os.path.join('..', 'data', 'masks', 'train', name))\n",
    "    print (\"Training data: {}\".format(train_data_folders))\n",
    "    train_iter = data_iterator.BatchIteratorSimple(batch_size=T.batch_size,\n",
    "                                                   data_folders=train_data_folders,\n",
    "                                                   image_shape=T.image_shape,\n",
    "                                                   shift_aug=True,\n",
    "                                                   filter_callback = do_filter,\n",
    "                                                   preprocess_callback = do_preprocess)\n",
    "    validation_data_folders = []\n",
    "    for name in T.validation_set_names:\n",
    "        validation_data_folders.append(os.path.join('..', 'data', 'masks', 'validation', name))\n",
    "    val_iter = data_iterator.BatchIteratorSimple(batch_size=T.batch_size,\n",
    "                                                 data_folders=validation_data_folders,\n",
    "                                                 image_shape=T.image_shape)\n",
    "\n",
    "    # Setting up some callbacks\n",
    "    callbacks = []\n",
    "    callbacks.append(keras.callbacks.TensorBoard(log_dir='../logs'\n",
    "#                                                  , histogram_freq=1, \\\n",
    "#                                                 write_graph=True, \\\n",
    "#                                                 write_grads=True, \\\n",
    "#                                                 batch_size=T.batch_size, \\\n",
    "#                                                 write_images=True)\n",
    "                                                )\n",
    "                    )\n",
    "    callbacks.append(keras.callbacks.EarlyStopping(monitor='val_loss', min_delta=0.0001, patience=4, verbose=1, mode='min'))\n",
    "\n",
    "    ############################\n",
    "    # History:\n",
    "    ############################\n",
    "    history_folder = os.path.join('../data/weights/history', time.strftime('%d_%m_%Y_%H_%M_%S'))\n",
    "    if not os.path.exists(history_folder):\n",
    "        os.makedirs(history_folder)\n",
    "\n",
    "    # Hyperperamaters tracking for history\n",
    "    with open(os.path.join(history_folder, \"T.txt\"), \"w+\") as T_file:\n",
    "        T_file.write(\"{}\".format(vars(T)))\n",
    "\n",
    "    # Weights checkpoints for history\n",
    "    callbacks.append(keras.callbacks.ModelCheckpoint(os.path.join(history_folder, '{epoch:02d}-weights-val_loss({val_loss:.4f}).h5'), \n",
    "                                                     monitor='val_loss', \n",
    "                                                     save_weights_only = True,\n",
    "                                                     verbose=1, \n",
    "                                                     period=1))\n",
    "\n",
    "    # Val_loss tracking and model architecture checkpoints for history:\n",
    "    callbacks.append(plotting_tools.LoggerPlotter(model, \n",
    "                                                  arch_file_path=os.path.join(history_folder, T.arch_file_name),\n",
    "                                                  image_path_template=os.path.join(history_folder, \"{:02d}-val-loss-history-plot.png\")))\n",
    "\n",
    "    ############################\n",
    "    # Optimal model tracking:\n",
    "    ############################\n",
    "    if not T.dry_run:\n",
    "        callbacks.append(keras.callbacks.ModelCheckpoint(weights_file_path, \n",
    "                                                         monitor='val_loss', \n",
    "                                                         save_best_only = True,\n",
    "                                                         save_weights_only = True,\n",
    "                                                         mode='auto',\n",
    "                                                         verbose=1, \n",
    "                                                         period=1))\n",
    "\n",
    "        # Also save the architecture\n",
    "        model_arch_json = model.to_json()\n",
    "        with open(arch_file_path, \"w+\") as arch_file:\n",
    "            json.dump(model_arch_json, arch_file)\n",
    "\n",
    "    ############################\n",
    "    # Training:\n",
    "    ############################\n",
    "    model.fit_generator(train_iter,\n",
    "                        steps_per_epoch = T.batches_per_epoch, # the number of batches per epoch,\n",
    "                        epochs = T.num_epochs, # the number of epochs to train for,\n",
    "                        validation_data = val_iter, # validation iterator\n",
    "                        validation_steps = T.batches_per_validation, # the number of batches to validate on\n",
    "                        callbacks=callbacks,\n",
    "                        workers = T.workers)"
   ]
  },
  {
   "cell_type": "code",
   "execution_count": null,
   "metadata": {},
   "outputs": [],
   "source": [
    "# Save your trained model weights\n",
    "# model_tools.save_network(model, T.weight_file_name)"
   ]
  },
  {
   "cell_type": "markdown",
   "metadata": {},
   "source": [
    "## Prediction <a id='prediction'></a>\n",
    "\n",
    "Now that you have your model trained and saved, you can make predictions on your validation dataset. These predictions can be compared to the mask images, which are the ground truth labels, to evaluate how well your model is doing under different conditions.\n",
    "\n",
    "There are three different predictions available from the helper code provided:\n",
    "- **patrol_with_targ**: Test how well the network can detect the hero from a distance.\n",
    "- **patrol_non_targ**: Test how often the network makes a mistake and identifies the wrong person as the target.\n",
    "- **following_images**: Test how well the network can identify the target while following them."
   ]
  },
  {
   "cell_type": "code",
   "execution_count": null,
   "metadata": {},
   "outputs": [],
   "source": [
    "# If you need to load a model which you previously trained you can uncomment the codeline that calls the function below.\n",
    "# model = model_tools.load_network(T.weight_file_name)"
   ]
  },
  {
   "cell_type": "markdown",
   "metadata": {},
   "source": [
    "The following cell will write predictions to files and return paths to the appropriate directories.\n",
    "The `run_num` parameter is used to define or group all the data for a particular model run. You can change it for different runs. For example, 'run_1', 'run_2' etc."
   ]
  },
  {
   "cell_type": "code",
   "execution_count": 12,
   "metadata": {},
   "outputs": [
    {
     "name": "stdout",
     "output_type": "stream",
     "text": [
      "# files being inferred: 322\n",
      "\t../data/masks/test/patrol_with_targ -> ../data/inferences/patrol_with_targ_run_1\n",
      "# files being inferred: 270\n",
      "\t../data/masks/test/patrol_non_targ -> ../data/inferences/patrol_non_targ_run_1\n",
      "# files being inferred: 542\n",
      "\t../data/masks/test/following_images -> ../data/inferences/following_images_run_1\n"
     ]
    }
   ],
   "source": [
    "run_num = 'run_1'\n",
    "val_with_targ, pred_with_targ = model_tools.write_predictions_grade_set(model,\n",
    "                                        'test', 'patrol_with_targ', run_num) \n",
    "\n",
    "val_no_targ, pred_no_targ = model_tools.write_predictions_grade_set(model, \n",
    "                                        'test', 'patrol_non_targ', run_num) \n",
    "\n",
    "val_following, pred_following = model_tools.write_predictions_grade_set(model,\n",
    "                                        'test', 'following_images', run_num)"
   ]
  },
  {
   "cell_type": "markdown",
   "metadata": {},
   "source": [
    "Now lets look at your predictions, and compare them to the ground truth labels and original images.\n",
    "Run each of the following cells to visualize some sample images from the predictions in the validation set."
   ]
  },
  {
   "cell_type": "code",
   "execution_count": null,
   "metadata": {},
   "outputs": [],
   "source": [
    "# images while following the target\n",
    "im_files = plotting_tools.get_im_file_sample('test', 'following_images', run_num) \n",
    "for i in range(3):\n",
    "    im_tuple = plotting_tools.load_images(im_files[i])\n",
    "    plotting_tools.show_images(im_tuple)\n",
    "    "
   ]
  },
  {
   "cell_type": "code",
   "execution_count": null,
   "metadata": {},
   "outputs": [],
   "source": [
    "# images while at patrol without target\n",
    "im_files = plotting_tools.get_im_file_sample('test', 'patrol_non_targ', run_num) \n",
    "for i in range(3):\n",
    "    im_tuple = plotting_tools.load_images(im_files[i])\n",
    "    plotting_tools.show_images(im_tuple)\n",
    " "
   ]
  },
  {
   "cell_type": "code",
   "execution_count": null,
   "metadata": {},
   "outputs": [],
   "source": [
    "   \n",
    "# images while at patrol with target\n",
    "im_files = plotting_tools.get_im_file_sample('test', 'patrol_with_targ', run_num) \n",
    "for i in range(3):\n",
    "    im_tuple = plotting_tools.load_images(im_files[i])\n",
    "    plotting_tools.show_images(im_tuple)"
   ]
  },
  {
   "cell_type": "markdown",
   "metadata": {},
   "source": [
    "## Evaluation <a id='evaluation'></a>\n",
    "Evaluate your model! The following cells include several different scores to help you evaluate your model under the different conditions discussed during the Prediction step. "
   ]
  },
  {
   "cell_type": "code",
   "execution_count": null,
   "metadata": {},
   "outputs": [],
   "source": [
    "# Scores for while the quad is following behind the target. \n",
    "true_pos1, false_pos1, false_neg1, iou1 = scoring_utils.score_run_iou(val_following, pred_following)"
   ]
  },
  {
   "cell_type": "code",
   "execution_count": null,
   "metadata": {},
   "outputs": [],
   "source": [
    "# Scores for images while the quad is on patrol and the target is not visable\n",
    "true_pos2, false_pos2, false_neg2, iou2 = scoring_utils.score_run_iou(val_no_targ, pred_no_targ)"
   ]
  },
  {
   "cell_type": "code",
   "execution_count": null,
   "metadata": {},
   "outputs": [],
   "source": [
    "# This score measures how well the neural network can detect the target from far away\n",
    "true_pos3, false_pos3, false_neg3, iou3 = scoring_utils.score_run_iou(val_with_targ, pred_with_targ)"
   ]
  },
  {
   "cell_type": "code",
   "execution_count": null,
   "metadata": {},
   "outputs": [],
   "source": [
    "# Sum all the true positives, etc from the three datasets to get a weight for the score\n",
    "true_pos = true_pos1 + true_pos2 + true_pos3\n",
    "false_pos = false_pos1 + false_pos2 + false_pos3\n",
    "false_neg = false_neg1 + false_neg2 + false_neg3\n",
    "\n",
    "weight = true_pos/(true_pos+false_neg+false_pos)\n",
    "print(weight)"
   ]
  },
  {
   "cell_type": "code",
   "execution_count": null,
   "metadata": {},
   "outputs": [],
   "source": [
    "# The IoU for the dataset that never includes the hero is excluded from grading\n",
    "final_IoU = (iou1 + iou3)/2\n",
    "print(final_IoU)"
   ]
  },
  {
   "cell_type": "code",
   "execution_count": null,
   "metadata": {},
   "outputs": [],
   "source": [
    "# And the final grade score is \n",
    "final_score = final_IoU * weight\n",
    "print(final_score)"
   ]
  },
  {
   "cell_type": "code",
   "execution_count": null,
   "metadata": {},
   "outputs": [],
   "source": [
    "# Now we will plot the graph created:\n",
    "plotting_tools.plot_keras_model(model, \"Graph\")"
   ]
  },
  {
   "cell_type": "code",
   "execution_count": null,
   "metadata": {},
   "outputs": [],
   "source": [
    "from IPython.display import SVG\n",
    "from keras.utils.vis_utils import model_to_dot\n",
    "\n",
    "SVG(model_to_dot(model).create(prog='dot', format='svg'))"
   ]
  },
  {
   "cell_type": "code",
   "execution_count": null,
   "metadata": {},
   "outputs": [],
   "source": []
  }
 ],
 "metadata": {
  "kernelspec": {
   "display_name": "Python 3",
   "language": "python",
   "name": "python3"
  },
  "language_info": {
   "codemirror_mode": {
    "name": "ipython",
    "version": 3
   },
   "file_extension": ".py",
   "mimetype": "text/x-python",
   "name": "python",
   "nbconvert_exporter": "python",
   "pygments_lexer": "ipython3",
   "version": "3.5.2"
  },
  "widgets": {
   "state": {},
   "version": "1.1.2"
  }
 },
 "nbformat": 4,
 "nbformat_minor": 2
}
